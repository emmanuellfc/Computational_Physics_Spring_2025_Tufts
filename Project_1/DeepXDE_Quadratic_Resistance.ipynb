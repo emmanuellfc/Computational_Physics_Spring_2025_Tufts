{
  "nbformat": 4,
  "nbformat_minor": 0,
  "metadata": {
    "colab": {
      "provenance": []
    },
    "kernelspec": {
      "name": "python3",
      "display_name": "Python 3"
    },
    "language_info": {
      "name": "python"
    }
  },
  "cells": [
    {
      "cell_type": "code",
      "source": [
        "pip install deepxde"
      ],
      "metadata": {
        "colab": {
          "base_uri": "https://localhost:8080/"
        },
        "id": "Rfg4y0HwoV3Y",
        "outputId": "08c61629-e2a1-4c8d-e03f-877a90819f1f",
        "collapsed": true
      },
      "execution_count": 1,
      "outputs": [
        {
          "output_type": "stream",
          "name": "stdout",
          "text": [
            "Requirement already satisfied: deepxde in /usr/local/lib/python3.11/dist-packages (1.13.1)\n",
            "Requirement already satisfied: matplotlib in /usr/local/lib/python3.11/dist-packages (from deepxde) (3.10.0)\n",
            "Requirement already satisfied: numpy in /usr/local/lib/python3.11/dist-packages (from deepxde) (1.26.4)\n",
            "Requirement already satisfied: scikit-learn in /usr/local/lib/python3.11/dist-packages (from deepxde) (1.6.1)\n",
            "Requirement already satisfied: scikit-optimize>=0.9.0 in /usr/local/lib/python3.11/dist-packages (from deepxde) (0.10.2)\n",
            "Requirement already satisfied: scipy in /usr/local/lib/python3.11/dist-packages (from deepxde) (1.13.1)\n",
            "Requirement already satisfied: joblib>=0.11 in /usr/local/lib/python3.11/dist-packages (from scikit-optimize>=0.9.0->deepxde) (1.4.2)\n",
            "Requirement already satisfied: pyaml>=16.9 in /usr/local/lib/python3.11/dist-packages (from scikit-optimize>=0.9.0->deepxde) (25.1.0)\n",
            "Requirement already satisfied: packaging>=21.3 in /usr/local/lib/python3.11/dist-packages (from scikit-optimize>=0.9.0->deepxde) (24.2)\n",
            "Requirement already satisfied: threadpoolctl>=3.1.0 in /usr/local/lib/python3.11/dist-packages (from scikit-learn->deepxde) (3.5.0)\n",
            "Requirement already satisfied: contourpy>=1.0.1 in /usr/local/lib/python3.11/dist-packages (from matplotlib->deepxde) (1.3.1)\n",
            "Requirement already satisfied: cycler>=0.10 in /usr/local/lib/python3.11/dist-packages (from matplotlib->deepxde) (0.12.1)\n",
            "Requirement already satisfied: fonttools>=4.22.0 in /usr/local/lib/python3.11/dist-packages (from matplotlib->deepxde) (4.55.8)\n",
            "Requirement already satisfied: kiwisolver>=1.3.1 in /usr/local/lib/python3.11/dist-packages (from matplotlib->deepxde) (1.4.8)\n",
            "Requirement already satisfied: pillow>=8 in /usr/local/lib/python3.11/dist-packages (from matplotlib->deepxde) (11.1.0)\n",
            "Requirement already satisfied: pyparsing>=2.3.1 in /usr/local/lib/python3.11/dist-packages (from matplotlib->deepxde) (3.2.1)\n",
            "Requirement already satisfied: python-dateutil>=2.7 in /usr/local/lib/python3.11/dist-packages (from matplotlib->deepxde) (2.8.2)\n",
            "Requirement already satisfied: PyYAML in /usr/local/lib/python3.11/dist-packages (from pyaml>=16.9->scikit-optimize>=0.9.0->deepxde) (6.0.2)\n",
            "Requirement already satisfied: six>=1.5 in /usr/local/lib/python3.11/dist-packages (from python-dateutil>=2.7->matplotlib->deepxde) (1.17.0)\n"
          ]
        }
      ]
    },
    {
      "cell_type": "code",
      "source": [
        "# Load libraries\n",
        "import tensorflow as tf\n",
        "import deepxde as dde\n",
        "import numpy as np\n",
        "import matplotlib.pyplot as plt"
      ],
      "metadata": {
        "colab": {
          "base_uri": "https://localhost:8080/"
        },
        "id": "V1eDN2TxuHPg",
        "outputId": "bee1394d-2eb3-432b-d7bd-44d40c9b01fd"
      },
      "execution_count": 2,
      "outputs": [
        {
          "output_type": "stream",
          "name": "stderr",
          "text": [
            "Using backend: tensorflow.compat.v1\n",
            "Other supported backends: tensorflow, pytorch, jax, paddle.\n",
            "paddle supports more examples now and is recommended.\n",
            "WARNING:tensorflow:From /usr/local/lib/python3.11/dist-packages/tensorflow/python/compat/v2_compat.py:98: disable_resource_variables (from tensorflow.python.ops.resource_variables_toggle) is deprecated and will be removed in a future version.\n",
            "Instructions for updating:\n",
            "non-resource variables are not supported in the long term\n"
          ]
        }
      ]
    },
    {
      "cell_type": "code",
      "source": [
        "# Set figure parameters for all plots\n",
        "newParams = {'figure.figsize'  : (12, 6),  # Figure size\n",
        "             'figure.dpi'      : 200,      # figure resolution\n",
        "             'axes.titlesize'  : 20,       # fontsize of title\n",
        "             'axes.labelsize'  : 11,       # fontsize of axes labels\n",
        "             'axes.linewidth'  : 2,        # width of the figure box lines\n",
        "             'lines.linewidth' : 1,        # width of the plotted lines\n",
        "             'savefig.dpi'     : 200,      # resolution of a figured saved using plt.savefig(filename)\n",
        "             'ytick.labelsize' : 11,       # fontsize of tick labels on y axis\n",
        "             'xtick.labelsize' : 11,       # fontsize of tick labels on x axis\n",
        "             'legend.fontsize' : 12,       # fontsize of labels in legend\n",
        "             'legend.frameon'  : True,     # activate frame on lengend?\n",
        "            }\n",
        "plt.rcParams.update(newParams) # Set new plotting parameters"
      ],
      "metadata": {
        "id": "An7Us2e3PabL"
      },
      "execution_count": 3,
      "outputs": []
    },
    {
      "cell_type": "code",
      "source": [
        "# Define Global Parameters\n",
        "g0    = 9.8                       # gravity\n",
        "c_d   = .6                        # cd of tennis ball\n",
        "rho   = 1.                        # density\n",
        "area  = 3.25*10**-3               # cross sectional area of tennis ball in m^2\n",
        "mass  = 58 *10**-3                # mass of tennis ball in kg\n",
        "gamma = .5*(1/mass)*rho*area*c_d  # drag coefficient\n",
        "\n",
        "# Load data\n",
        "tdata, xdata, ydata,vxdata,vydata = np.loadtxt(\"tennis1.txt\", unpack=True)"
      ],
      "metadata": {
        "id": "sEBKWQyl1b8s"
      },
      "execution_count": 4,
      "outputs": []
    },
    {
      "cell_type": "code",
      "source": [
        "# Define constanst using the tf library\n",
        "g = tf.constant(g0)\n",
        "c = tf.constant(0.01)\n",
        "\n",
        "# Define the ODE system\n",
        "def ode_system(t, u):\n",
        "    \"\"\"\n",
        "    Define the ODE system:\n",
        "    du/dt = -g + c*u^2 + 0.1*u\n",
        "    \"\"\"\n",
        "    du_tt = dde.grad.hessian(u, t)\n",
        "    return du_tt - g + c*u**2 + 0.1*u\n",
        "\n",
        "# Define the boundary condition\n",
        "def boundary_l(x, on_boundary):\n",
        "  return on_boundary and dde.utils.isclose(x[0], 0)\n",
        "\n",
        "# Define the value of the function at the boundary\n",
        "def func(t):\n",
        "  \"\"\"\n",
        "  Define the value of the function at the boundary:\n",
        "  u(0, t) = 0\n",
        "  \"\"\"\n",
        "  return 0\n",
        "\n",
        "# Define the time domain and declare Dirichlet and Robin BC\n",
        "geom = dde.geometry.TimeDomain(0, 0.45)\n",
        "bc_l = dde.icbc.DirichletBC(geom, func, boundary_l)\n",
        "bc_r = dde.icbc.RobinBC(geom, lambda X, y: 0, boundary_l)"
      ],
      "metadata": {
        "id": "hN-ZBnnP8x9e"
      },
      "execution_count": 5,
      "outputs": []
    },
    {
      "cell_type": "code",
      "source": [
        "# Load libraries\n",
        "import tensorflow as tf\n",
        "import deepxde as dde\n",
        "import numpy as np\n",
        "import matplotlib.pyplot as plt\n",
        "from sklearn.model_selection import train_test_split # Import train_test_split\n",
        "\n",
        "\n",
        "# Load data\n",
        "tdata, xdata, ydata, vxdata, vydata = np.loadtxt(\"tennis1.txt\", unpack=True)\n",
        "xdata  = -(xdata-xdata[0])\n",
        "\n",
        "# Split data into training and testing sets\n",
        "X_train, X_test, y_train, y_test = train_test_split(\n",
        "    tdata, xdata, test_size=0.2, random_state=42\n",
        ")  # Adjust test_size and random_state as needed\n",
        "\n",
        "# Create DataSet object with training and testing data\n",
        "data = dde.data.DataSet(X_train, y_train, X_test, -y_test) # Initialize with train and test data\n",
        "\n",
        "data = dde.data.PDE(geom,\n",
        "                    ode_system,\n",
        "                    [bc_l, bc_r],\n",
        "                    num_domain=50,\n",
        "                    num_boundary=2,\n",
        "                    train_distribution=\"uniform\",\n",
        "                    solution=None,\n",
        "                    num_test=500)\n",
        "\n",
        "layer_size = [1] + [100]*4 + [1]\n",
        "activation = \"sigmoid\"\n",
        "initializer = \"Glorot uniform\"\n",
        "\n",
        "NN = dde.maps.FNN(layer_size, activation, initializer)\n",
        "\n",
        "model = dde.Model(data, NN)\n",
        "model.compile(\"adam\", lr = 0.0005)\n",
        "\n",
        "losshistory, train_state = model.train(epochs = 6000)\n",
        "dde.saveplot(losshistory, train_state, issave = False, isplot = False)"
      ],
      "metadata": {
        "colab": {
          "base_uri": "https://localhost:8080/"
        },
        "id": "FxUkivKqTNsE",
        "outputId": "4f15521c-fe7d-45ce-a04e-be02870c4f33"
      },
      "execution_count": 6,
      "outputs": [
        {
          "output_type": "stream",
          "name": "stdout",
          "text": [
            "Compiling model...\n",
            "Building feed-forward neural network...\n",
            "'build' took 0.302066 s\n",
            "\n",
            "'compile' took 1.944849 s\n",
            "\n",
            "Warning: epochs is deprecated and will be removed in a future version. Use iterations instead.\n",
            "Training model...\n",
            "\n",
            "Step      Train loss                        Test loss                         Test metric\n",
            "0         [9.73e+01, 4.95e-01, 1.40e-06]    [9.73e+01, 4.95e-01, 1.40e-06]    []  \n",
            "1000      [2.94e-04, 7.14e-08, 2.44e-07]    [2.30e-04, 7.14e-08, 2.44e-07]    []  \n",
            "2000      [1.36e-04, 2.29e-09, 5.16e-09]    [1.17e-04, 2.29e-09, 5.16e-09]    []  \n",
            "3000      [1.28e-04, 1.00e-09, 4.62e-10]    [1.11e-04, 1.00e-09, 4.62e-10]    []  \n",
            "4000      [1.61e-04, 1.78e-05, 2.25e-08]    [1.39e-04, 1.78e-05, 2.25e-08]    []  \n",
            "5000      [1.14e-04, 3.62e-10, 2.24e-10]    [9.86e-05, 3.62e-10, 2.24e-10]    []  \n",
            "6000      [1.06e-04, 2.68e-07, 1.24e-07]    [9.19e-05, 2.68e-07, 1.24e-07]    []  \n",
            "\n",
            "Best model at step 6000:\n",
            "  train loss: 1.07e-04\n",
            "  test loss: 9.23e-05\n",
            "  test metric: []\n",
            "\n",
            "'train' took 28.921602 s\n",
            "\n"
          ]
        }
      ]
    },
    {
      "cell_type": "code",
      "source": [
        "# Save prediction of the model\n",
        "t = geom.uniform_points(100)   # Generate 1000 uniformly spaced points in the time domain\n",
        "y_pred = model.predict(t)      # Use the trained model to predict values at these points\n",
        "data_to_save = np.stack((t.flatten(), y_pred.flatten()), axis=1)\n",
        "np.savetxt('pinn_data.txt', data_to_save, delimiter=',', header='t,y_pred')  # Save the array"
      ],
      "metadata": {
        "id": "foGaBvRYHVeq"
      },
      "execution_count": 7,
      "outputs": []
    }
  ]
}